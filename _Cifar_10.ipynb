{
 "cells": [
  {
   "cell_type": "code",
   "execution_count": null,
   "metadata": {
    "colab": {
     "autoexec": {
      "startup": false,
      "wait_interval": 0
     }
    },
    "colab_type": "code",
    "id": "q_5_OMK9VsTY"
   },
   "outputs": [],
   "source": [
    "import matplotlib.pyplot as plt\n",
    "import numpy as np\n",
    "import os\n",
    "from sklearn.metrics import classification_report, confusion_matrix, accuracy_score\n",
    "from sklearn.model_selection import cross_val_score\n",
    "from sklearn.decomposition import PCA\n",
    "from sklearn.model_selection import GridSearchCV\n",
    "from sklearn import svm\n",
    "import time \n",
    "start=time.time()"
   ]
  },
  {
   "cell_type": "code",
   "execution_count": null,
   "metadata": {
    "colab": {
     "autoexec": {
      "startup": false,
      "wait_interval": 0
     },
     "base_uri": "https://localhost:8080/",
     "height": 34
    },
    "colab_type": "code",
    "executionInfo": {
     "elapsed": 35695,
     "status": "ok",
     "timestamp": 1533621113560,
     "user": {
      "displayName": "Anusar Soni",
      "photoUrl": "//lh3.googleusercontent.com/-LU_xoE6acvk/AAAAAAAAAAI/AAAAAAAAAL4/9uet7D6-1FQ/s50-c-k-no/photo.jpg",
      "userId": "103528168052024336933"
     },
     "user_tz": -330
    },
    "id": "GzNtI00DWEhY",
    "outputId": "fc1f75ca-0006-4cc0-e4b9-2f03943efb82"
   },
   "outputs": [],
   "source": [
    "import urllib.request\n",
    "urllib.request.urlretrieve (\"https://www.cs.toronto.edu/~kriz/cifar-10-python.tar.gz\", \"a.tar.gz\")\n"
   ]
  },
  {
   "cell_type": "code",
   "execution_count": null,
   "metadata": {
    "colab": {
     "autoexec": {
      "startup": false,
      "wait_interval": 0
     }
    },
    "colab_type": "code",
    "id": "hWRqzyFnXyv7"
   },
   "outputs": [],
   "source": [
    "import tarfile\n",
    "tar = tarfile.open(\"a.tar.gz\")\n",
    "tar.extractall()\n",
    "tar.close()\n"
   ]
  },
  {
   "cell_type": "markdown",
   "metadata": {},
   "source": [
    "## Loading Dataset from link"
   ]
  },
  {
   "cell_type": "code",
   "execution_count": null,
   "metadata": {
    "colab": {
     "autoexec": {
      "startup": false,
      "wait_interval": 0
     },
     "base_uri": "https://localhost:8080/",
     "height": 85
    },
    "colab_type": "code",
    "executionInfo": {
     "elapsed": 1616,
     "status": "ok",
     "timestamp": 1533621120858,
     "user": {
      "displayName": "Anusar Soni",
      "photoUrl": "//lh3.googleusercontent.com/-LU_xoE6acvk/AAAAAAAAAAI/AAAAAAAAAL4/9uet7D6-1FQ/s50-c-k-no/photo.jpg",
      "userId": "103528168052024336933"
     },
     "user_tz": -330
    },
    "id": "ghuEXns9d8o8",
    "outputId": "cba088dc-1679-4fba-e105-42938d7d3ddc"
   },
   "outputs": [],
   "source": [
    "import numpy as np\n",
    "import matplotlib.pyplot as plt\n",
    "import pickle\n",
    "\n",
    "\n",
    "def unpickle(file):\n",
    " '''Load byte data from file'''\n",
    " with open(file, 'rb') as f:\n",
    "  data = pickle.load(f, encoding='latin-1')\n",
    "  return data\n",
    "\n",
    "\n",
    "def load_cifar10_data(data_dir):\n",
    " '''Return train_data, train_labels, test_data, test_labels\n",
    " The shape of data is 32 x 32 x3'''\n",
    " train_data = None\n",
    " train_labels = []\n",
    "\n",
    " for i in range(1, 6):\n",
    "  data_dic = unpickle(data_dir + \"/data_batch_{}\".format(i))\n",
    "  if i == 1:\n",
    "   train_data = data_dic['data']\n",
    "  else:\n",
    "   train_data = np.vstack((train_data, data_dic['data']))\n",
    "  train_labels += data_dic['labels']\n",
    "\n",
    " test_data_dic = unpickle(data_dir + \"/test_batch\")\n",
    " test_data = test_data_dic['data']\n",
    " test_labels = test_data_dic['labels']\n",
    "\n",
    " train_data = train_data.reshape((len(train_data), 3, 32, 32))\n",
    " train_data = np.rollaxis(train_data, 1, 4)\n",
    " train_labels = np.array(train_labels)\n",
    "\n",
    " test_data = test_data.reshape((len(test_data), 3, 32, 32))\n",
    " test_data = np.rollaxis(test_data, 1, 4)\n",
    " test_labels = np.array(test_labels)\n",
    "\n",
    " return train_data, train_labels, test_data, test_labels\n",
    "\n",
    "data_dir = 'cifar-10-batches-py'\n",
    "\n",
    "train_data, train_labels, test_data, test_labels = load_cifar10_data(data_dir)\n",
    "\n",
    "print(train_data.shape)\n",
    "print(train_labels.shape)\n",
    "\n",
    "print(test_data.shape)\n",
    "print(test_labels.shape)\n"
   ]
  },
  {
   "cell_type": "markdown",
   "metadata": {},
   "source": [
    "## Scaling the Data"
   ]
  },
  {
   "cell_type": "code",
   "execution_count": null,
   "metadata": {
    "colab": {
     "autoexec": {
      "startup": false,
      "wait_interval": 0
     }
    },
    "colab_type": "code",
    "id": "NAOgwIiheaTe"
   },
   "outputs": [],
   "source": [
    "x_train = train_data.reshape(train_data.shape[0],-1)\n",
    "x_test = test_data.reshape(test_data.shape[0], -1)"
   ]
  },
  {
   "cell_type": "code",
   "execution_count": null,
   "metadata": {
    "colab": {
     "autoexec": {
      "startup": false,
      "wait_interval": 0
     },
     "base_uri": "https://localhost:8080/",
     "height": 71
    },
    "colab_type": "code",
    "executionInfo": {
     "elapsed": 5737,
     "status": "ok",
     "timestamp": 1533621130886,
     "user": {
      "displayName": "Anusar Soni",
      "photoUrl": "//lh3.googleusercontent.com/-LU_xoE6acvk/AAAAAAAAAAI/AAAAAAAAAL4/9uet7D6-1FQ/s50-c-k-no/photo.jpg",
      "userId": "103528168052024336933"
     },
     "user_tz": -330
    },
    "id": "jWBUBzEVvfw-",
    "outputId": "f41df81f-87d9-4724-b8e7-beaf5f975f6a"
   },
   "outputs": [],
   "source": [
    "from sklearn.preprocessing import StandardScaler\n",
    "sc = StandardScaler()\n",
    "x_train_scaled = sc.fit_transform(x_train)\n"
   ]
  },
  {
   "cell_type": "code",
   "execution_count": null,
   "metadata": {
    "colab": {
     "autoexec": {
      "startup": false,
      "wait_interval": 0
     },
     "base_uri": "https://localhost:8080/",
     "height": 71
    },
    "colab_type": "code",
    "executionInfo": {
     "elapsed": 1899,
     "status": "ok",
     "timestamp": 1533621132839,
     "user": {
      "displayName": "Anusar Soni",
      "photoUrl": "//lh3.googleusercontent.com/-LU_xoE6acvk/AAAAAAAAAAI/AAAAAAAAAL4/9uet7D6-1FQ/s50-c-k-no/photo.jpg",
      "userId": "103528168052024336933"
     },
     "user_tz": -330
    },
    "id": "yjwb_WcuwmUb",
    "outputId": "d54c5137-60a6-4a5a-8ffe-c97e6e231ff2"
   },
   "outputs": [],
   "source": [
    "x_test_scaled = sc.transform(x_test)\n"
   ]
  },
  {
   "cell_type": "code",
   "execution_count": null,
   "metadata": {
    "colab": {
     "autoexec": {
      "startup": false,
      "wait_interval": 0
     }
    },
    "colab_type": "code",
    "id": "E5DeaSodl9r5"
   },
   "outputs": [],
   "source": [
    "y_train = train_labels\n",
    "y_test = test_labels"
   ]
  },
  {
   "cell_type": "markdown",
   "metadata": {
    "colab_type": "text",
    "id": "HYi9iHCllzdB"
   },
   "source": [
    "# Applying PCA"
   ]
  },
  {
   "cell_type": "code",
   "execution_count": null,
   "metadata": {
    "colab": {
     "autoexec": {
      "startup": false,
      "wait_interval": 0
     },
     "base_uri": "https://localhost:8080/",
     "height": 238
    },
    "colab_type": "code",
    "executionInfo": {
     "elapsed": 162451,
     "status": "ok",
     "timestamp": 1533621326490,
     "user": {
      "displayName": "Anusar Soni",
      "photoUrl": "//lh3.googleusercontent.com/-LU_xoE6acvk/AAAAAAAAAAI/AAAAAAAAAL4/9uet7D6-1FQ/s50-c-k-no/photo.jpg",
      "userId": "103528168052024336933"
     },
     "user_tz": -330
    },
    "id": "KV56dSvKlx6w",
    "outputId": "4943c182-2b71-4101-dba1-c9126ab8e435"
   },
   "outputs": [],
   "source": [
    "pca = PCA()\n",
    "pca.fit_transform(x_train_scaled)"
   ]
  },
  {
   "cell_type": "code",
   "execution_count": null,
   "metadata": {
    "colab": {
     "autoexec": {
      "startup": false,
      "wait_interval": 0
     },
     "base_uri": "https://localhost:8080/",
     "height": 34
    },
    "colab_type": "code",
    "executionInfo": {
     "elapsed": 1765,
     "status": "ok",
     "timestamp": 1533621328308,
     "user": {
      "displayName": "Anusar Soni",
      "photoUrl": "//lh3.googleusercontent.com/-LU_xoE6acvk/AAAAAAAAAAI/AAAAAAAAAL4/9uet7D6-1FQ/s50-c-k-no/photo.jpg",
      "userId": "103528168052024336933"
     },
     "user_tz": -330
    },
    "id": "7HOAoiI8macF",
    "outputId": "ea867669-a0fa-4f42-bc8b-86ad80d98f50"
   },
   "outputs": [],
   "source": [
    "# Calculating optimal k to have 0.95 variance\n",
    "\n",
    "k = 0\n",
    "total = sum(pca.explained_variance_)\n",
    "current_sum = 0\n",
    "\n",
    "while(current_sum / total < 0.99):\n",
    "    current_sum += pca.explained_variance_[k]\n",
    "    k += 1\n",
    "k"
   ]
  },
  {
   "cell_type": "code",
   "execution_count": null,
   "metadata": {
    "colab": {
     "autoexec": {
      "startup": false,
      "wait_interval": 0
     }
    },
    "colab_type": "code",
    "id": "yW1OOhUQmh8V"
   },
   "outputs": [],
   "source": [
    "pca_cifar = PCA(n_components=k,whiten=True)\n",
    "x_train_pca_cifar = pca_cifar.fit_transform(x_train_scaled)\n",
    "x_test_pca_cifar = pca_cifar.transform(x_test_scaled)"
   ]
  },
  {
   "cell_type": "markdown",
   "metadata": {
    "colab_type": "text",
    "id": "22eC8dTww7pt"
   },
   "source": [
    "# Logisitic Regression"
   ]
  },
  {
   "cell_type": "code",
   "execution_count": null,
   "metadata": {
    "colab": {
     "autoexec": {
      "startup": false,
      "wait_interval": 0
     }
    },
    "colab_type": "code",
    "id": "9MirMdvVw6xC"
   },
   "outputs": [],
   "source": [
    "from sklearn.linear_model import LogisticRegression"
   ]
  },
  {
   "cell_type": "code",
   "execution_count": null,
   "metadata": {
    "colab": {
     "autoexec": {
      "startup": false,
      "wait_interval": 0
     },
     "base_uri": "https://localhost:8080/",
     "height": 85
    },
    "colab_type": "code",
    "executionInfo": {
     "elapsed": 12676,
     "status": "ok",
     "timestamp": 1533618460040,
     "user": {
      "displayName": "Anusar Soni",
      "photoUrl": "//lh3.googleusercontent.com/-LU_xoE6acvk/AAAAAAAAAAI/AAAAAAAAAL4/9uet7D6-1FQ/s50-c-k-no/photo.jpg",
      "userId": "103528168052024336933"
     },
     "user_tz": -330
    },
    "id": "CvPgo-gFw6gz",
    "outputId": "68057ab7-9252-4131-f5de-b8f7dfb5c0d7"
   },
   "outputs": [],
   "source": [
    "lr = LogisticRegression()\n",
    "lr.fit(x_train_pca_cifar, y_train)"
   ]
  },
  {
   "cell_type": "code",
   "execution_count": null,
   "metadata": {
    "colab": {
     "autoexec": {
      "startup": false,
      "wait_interval": 0
     },
     "base_uri": "https://localhost:8080/",
     "height": 34
    },
    "colab_type": "code",
    "executionInfo": {
     "elapsed": 1203,
     "status": "ok",
     "timestamp": 1533618478308,
     "user": {
      "displayName": "Anusar Soni",
      "photoUrl": "//lh3.googleusercontent.com/-LU_xoE6acvk/AAAAAAAAAAI/AAAAAAAAAL4/9uet7D6-1FQ/s50-c-k-no/photo.jpg",
      "userId": "103528168052024336933"
     },
     "user_tz": -330
    },
    "id": "GlkkeCBvw6ZC",
    "outputId": "6c05deb0-5530-4e9a-a3ff-a2ee11275a79"
   },
   "outputs": [],
   "source": [
    "y_pred_lr = lr.predict(x_test_pca_cifar)\n",
    "logistic_regression_score = accuracy_score(y_test, y_pred_lr)\n",
    "logistic_regression_score"
   ]
  },
  {
   "cell_type": "markdown",
   "metadata": {
    "colab_type": "text",
    "id": "QQp68SW0olas"
   },
   "source": [
    "# SVM"
   ]
  },
  {
   "cell_type": "code",
   "execution_count": null,
   "metadata": {
    "colab": {
     "autoexec": {
      "startup": false,
      "wait_interval": 0
     }
    },
    "colab_type": "code",
    "id": "D1MZFQGSmidq"
   },
   "outputs": [],
   "source": [
    "svc = svm.SVC(C= 100, gamma=0.005)"
   ]
  },
  {
   "cell_type": "code",
   "execution_count": null,
   "metadata": {
    "colab": {
     "autoexec": {
      "startup": false,
      "wait_interval": 0
     }
    },
    "colab_type": "code",
    "id": "4VHTSpUCo2IO"
   },
   "outputs": [],
   "source": [
    "svc.fit(x_train_pca_cifar,y_train)"
   ]
  },
  {
   "cell_type": "code",
   "execution_count": null,
   "metadata": {
    "colab": {
     "autoexec": {
      "startup": false,
      "wait_interval": 0
     },
     "base_uri": "https://localhost:8080/",
     "height": 34
    },
    "colab_type": "code",
    "executionInfo": {
     "elapsed": 160857,
     "status": "ok",
     "timestamp": 1533619763315,
     "user": {
      "displayName": "Anusar Soni",
      "photoUrl": "//lh3.googleusercontent.com/-LU_xoE6acvk/AAAAAAAAAAI/AAAAAAAAAL4/9uet7D6-1FQ/s50-c-k-no/photo.jpg",
      "userId": "103528168052024336933"
     },
     "user_tz": -330
    },
    "id": "K_GMEoyppDyN",
    "outputId": "42ec41d0-0d77-4bfa-ae7a-081e275ba3ee"
   },
   "outputs": [],
   "source": [
    "y_pred_svm = svc.predict(x_test_pca_cifar)\n",
    "svc_score = accuracy_score(y_test, y_pred_svm)\n",
    "svc_score\n",
    "print(\"time is :\",(time.time()-start)/60,\" mins\")"
   ]
  },
  {
   "cell_type": "markdown",
   "metadata": {
    "colab": {
     "autoexec": {
      "startup": false,
      "wait_interval": 0
     }
    },
    "colab_type": "code",
    "id": "ueKvHiLn7aME"
   },
   "source": [
    "## Accuracy - 55.52%"
   ]
  },
  {
   "cell_type": "markdown",
   "metadata": {},
   "source": [
    "We can 55.52% accuracy using pca and SVM\n",
    "This can be improved by retaining more data than 95%"
   ]
  }
 ],
 "metadata": {
  "accelerator": "GPU",
  "colab": {
   "collapsed_sections": [],
   "default_view": {},
   "name": "Anusar_Cifar_10.ipynb",
   "provenance": [],
   "version": "0.3.2",
   "views": {}
  },
  "kernelspec": {
   "display_name": "Python 3",
   "language": "python",
   "name": "python3"
  },
  "language_info": {
   "codemirror_mode": {
    "name": "ipython",
    "version": 3
   },
   "file_extension": ".py",
   "mimetype": "text/x-python",
   "name": "python",
   "nbconvert_exporter": "python",
   "pygments_lexer": "ipython3",
   "version": "3.6.6"
  }
 },
 "nbformat": 4,
 "nbformat_minor": 1
}
